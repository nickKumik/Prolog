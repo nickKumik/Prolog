{
 "cells": [
  {
   "cell_type": "code",
   "execution_count": 3,
   "metadata": {},
   "outputs": [
    {
     "name": "stderr",
     "output_type": "stream",
     "text": [
      "<>:59: SyntaxWarning: 'str' object is not callable; perhaps you missed a comma?\n",
      "<>:59: SyntaxWarning: 'str' object is not callable; perhaps you missed a comma?\n",
      "C:\\Users\\nicho\\AppData\\Local\\Temp\\ipykernel_21112\\1210409988.py:59: SyntaxWarning: 'str' object is not callable; perhaps you missed a comma?\n",
      "  for insertpoint, bracket in zip(b, '()'(len(b)//2)):\n"
     ]
    }
   ],
   "source": [
    "from   __future__ import division, print_function\n",
    "from   itertools  import permutations, combinations, product, chain, zip_longest\n",
    "from   pprint     import pprint as pp\n",
    "from   fractions  import Fraction as F\n",
    "\n",
    "import random, re, ast; \n",
    "\n",
    "\n",
    "def random4():\n",
    "    return [str(random.randint(1,13)) for i in range(4)]\n",
    "\n",
    "def start(digits):\n",
    "    print(__doc__)\n",
    "    print(\"The digits are: \" + ' '.join(digits))\n",
    "\n",
    "def check(answer, digits):\n",
    "    allowed = set('() +-*/'+ ''.join(digits))\n",
    "    ok = all(char in allowed for char in answer) and \\\n",
    "            all(digits.count(dig) == answer.count(dig) for dig in digits) \\\n",
    "            and not re.search('\\d\\d', answer)\n",
    "    if ok:\n",
    "        try:\n",
    "            ast.parse(answer)\n",
    "        except:\n",
    "            ok = False\n",
    "    return ok\n",
    "\n",
    "def ask4():\n",
    "    'get four random digits >0 from the player'\n",
    "    digits = ''\n",
    "    while len(digits) != 4 or not all(d in '123456789' for d in digits):\n",
    "        digits = input('Enter the digits to solve for: ')\n",
    "        digits = ''.join(digits.strip().split())\n",
    "    return list(digits)\n",
    "\n",
    "def solve(digits):\n",
    "    digilen = len(digits)\n",
    "    # length of an exp without brackets \n",
    "    exprlen = 2 * digilen - 1\n",
    "    # permute all the digits\n",
    "    digiperm = sorted(set(permutations(digits)))\n",
    "    # All the possible operator combinations\n",
    "    opcomb   = list(product('+-/', repeat=digilen-1))\n",
    "    # All the bracket insertion points:\n",
    "    brackets = ( [()] + [(x,y)\n",
    "                         for x in range(0, exprlen, 2)\n",
    "                         for y in range(x+4, exprlen+2, 2)\n",
    "                         if (x,y) != (0,exprlen+1)]\n",
    "                 + [(0, 3+1, 4+2, 7+3)] ) # double brackets case\n",
    "    for d in digiperm:\n",
    "        for ops in opcomb:\n",
    "            if '/' in ops:\n",
    "                d2 = [('F(%s)' % i) for i in d] # Use Fractions for accuracy\n",
    "            else:\n",
    "                d2 = d\n",
    "            ex = list(chain.from_iterable(zip_longest(d2, ops, fillvalue='')))\n",
    "            for b in brackets:\n",
    "                exp = ex[::]\n",
    "                for insertpoint, bracket in zip(b, '()'(len(b)//2)):\n",
    "                    exp.insert(insertpoint, bracket)\n",
    "                txt = ''.join(exp)\n",
    "                try:\n",
    "                    num = eval(txt)\n",
    "                except ZeroDivisionError:\n",
    "                    continue\n",
    "                if num == 24:\n",
    "                    if '/' in ops:\n",
    "                        exp = [ (term if not term.startswith('F(') else term[2])\n",
    "                               for term in exp ]\n",
    "                    ans = ' '.join(exp).rstrip()\n",
    "                    print (\"Solution found:\",ans)\n",
    "                    return ans\n",
    "    print (\"No solution found for:\", ' '.join(digits))\n",
    "    return '!'\n",
    "\n",
    "def main():\n",
    "    digits = random4()\n",
    "    start(digits)\n",
    "    solve(digits)\n",
    "\n"
   ]
  },
  {
   "cell_type": "code",
   "execution_count": 4,
   "metadata": {},
   "outputs": [
    {
     "name": "stdout",
     "output_type": "stream",
     "text": [
      "Automatically created module for IPython interactive environment\n",
      "The digits are: 8 1 6 1\n"
     ]
    },
    {
     "ename": "TypeError",
     "evalue": "'str' object is not callable",
     "output_type": "error",
     "traceback": [
      "\u001b[1;31m---------------------------------------------------------------------------\u001b[0m",
      "\u001b[1;31mTypeError\u001b[0m                                 Traceback (most recent call last)",
      "\u001b[1;32m~\\AppData\\Local\\Temp\\ipykernel_21112\\451043146.py\u001b[0m in \u001b[0;36m<module>\u001b[1;34m\u001b[0m\n\u001b[1;32m----> 1\u001b[1;33m \u001b[0mmain\u001b[0m\u001b[1;33m(\u001b[0m\u001b[1;33m)\u001b[0m\u001b[1;33m\u001b[0m\u001b[1;33m\u001b[0m\u001b[0m\n\u001b[0m",
      "\u001b[1;32m~\\AppData\\Local\\Temp\\ipykernel_21112\\1210409988.py\u001b[0m in \u001b[0;36mmain\u001b[1;34m()\u001b[0m\n\u001b[0;32m     77\u001b[0m     \u001b[0mdigits\u001b[0m \u001b[1;33m=\u001b[0m \u001b[0mrandom4\u001b[0m\u001b[1;33m(\u001b[0m\u001b[1;33m)\u001b[0m\u001b[1;33m\u001b[0m\u001b[1;33m\u001b[0m\u001b[0m\n\u001b[0;32m     78\u001b[0m     \u001b[0mstart\u001b[0m\u001b[1;33m(\u001b[0m\u001b[0mdigits\u001b[0m\u001b[1;33m)\u001b[0m\u001b[1;33m\u001b[0m\u001b[1;33m\u001b[0m\u001b[0m\n\u001b[1;32m---> 79\u001b[1;33m     \u001b[0msolve\u001b[0m\u001b[1;33m(\u001b[0m\u001b[0mdigits\u001b[0m\u001b[1;33m)\u001b[0m\u001b[1;33m\u001b[0m\u001b[1;33m\u001b[0m\u001b[0m\n\u001b[0m\u001b[0;32m     80\u001b[0m \u001b[1;33m\u001b[0m\u001b[0m\n",
      "\u001b[1;32m~\\AppData\\Local\\Temp\\ipykernel_21112\\1210409988.py\u001b[0m in \u001b[0;36msolve\u001b[1;34m(digits)\u001b[0m\n\u001b[0;32m     57\u001b[0m             \u001b[1;32mfor\u001b[0m \u001b[0mb\u001b[0m \u001b[1;32min\u001b[0m \u001b[0mbrackets\u001b[0m\u001b[1;33m:\u001b[0m\u001b[1;33m\u001b[0m\u001b[1;33m\u001b[0m\u001b[0m\n\u001b[0;32m     58\u001b[0m                 \u001b[0mexp\u001b[0m \u001b[1;33m=\u001b[0m \u001b[0mex\u001b[0m\u001b[1;33m[\u001b[0m\u001b[1;33m:\u001b[0m\u001b[1;33m:\u001b[0m\u001b[1;33m]\u001b[0m\u001b[1;33m\u001b[0m\u001b[1;33m\u001b[0m\u001b[0m\n\u001b[1;32m---> 59\u001b[1;33m                 \u001b[1;32mfor\u001b[0m \u001b[0minsertpoint\u001b[0m\u001b[1;33m,\u001b[0m \u001b[0mbracket\u001b[0m \u001b[1;32min\u001b[0m \u001b[0mzip\u001b[0m\u001b[1;33m(\u001b[0m\u001b[0mb\u001b[0m\u001b[1;33m,\u001b[0m \u001b[1;34m'()'\u001b[0m\u001b[1;33m(\u001b[0m\u001b[0mlen\u001b[0m\u001b[1;33m(\u001b[0m\u001b[0mb\u001b[0m\u001b[1;33m)\u001b[0m\u001b[1;33m//\u001b[0m\u001b[1;36m2\u001b[0m\u001b[1;33m)\u001b[0m\u001b[1;33m)\u001b[0m\u001b[1;33m:\u001b[0m\u001b[1;33m\u001b[0m\u001b[1;33m\u001b[0m\u001b[0m\n\u001b[0m\u001b[0;32m     60\u001b[0m                     \u001b[0mexp\u001b[0m\u001b[1;33m.\u001b[0m\u001b[0minsert\u001b[0m\u001b[1;33m(\u001b[0m\u001b[0minsertpoint\u001b[0m\u001b[1;33m,\u001b[0m \u001b[0mbracket\u001b[0m\u001b[1;33m)\u001b[0m\u001b[1;33m\u001b[0m\u001b[1;33m\u001b[0m\u001b[0m\n\u001b[0;32m     61\u001b[0m                 \u001b[0mtxt\u001b[0m \u001b[1;33m=\u001b[0m \u001b[1;34m''\u001b[0m\u001b[1;33m.\u001b[0m\u001b[0mjoin\u001b[0m\u001b[1;33m(\u001b[0m\u001b[0mexp\u001b[0m\u001b[1;33m)\u001b[0m\u001b[1;33m\u001b[0m\u001b[1;33m\u001b[0m\u001b[0m\n",
      "\u001b[1;31mTypeError\u001b[0m: 'str' object is not callable"
     ]
    }
   ],
   "source": [
    "main()"
   ]
  }
 ],
 "metadata": {
  "kernelspec": {
   "display_name": "base",
   "language": "python",
   "name": "python3"
  },
  "language_info": {
   "codemirror_mode": {
    "name": "ipython",
    "version": 3
   },
   "file_extension": ".py",
   "mimetype": "text/x-python",
   "name": "python",
   "nbconvert_exporter": "python",
   "pygments_lexer": "ipython3",
   "version": "3.9.13"
  },
  "orig_nbformat": 4,
  "vscode": {
   "interpreter": {
    "hash": "7bb84276cade4b44b83a6f05ca27e44eb21c34d5cdf42c7e55c2010933268c43"
   }
  }
 },
 "nbformat": 4,
 "nbformat_minor": 2
}
